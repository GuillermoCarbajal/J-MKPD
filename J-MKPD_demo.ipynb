{
 "cells": [
  {
   "cell_type": "markdown",
   "metadata": {
    "ExecuteTime": {
     "end_time": "2023-01-16T18:24:16.316501Z",
     "start_time": "2023-01-16T18:24:16.313009Z"
    },
    "id": "UeuyqEHv3neb"
   },
   "source": [
    "# Joint Motion Kernel Prediction and Deblurring (J-MKPD) demo"
   ]
  },
  {
   "cell_type": "markdown",
   "metadata": {
    "ExecuteTime": {
     "end_time": "2023-01-16T18:29:06.215255Z",
     "start_time": "2023-01-16T18:29:06.208625Z"
    },
    "id": "aIo6nhrs3nei"
   },
   "source": [
    "## Clone the repo"
   ]
  },
  {
   "cell_type": "code",
   "execution_count": null,
   "metadata": {
    "ExecuteTime": {
     "end_time": "2023-01-22T14:14:20.651060Z",
     "start_time": "2023-01-22T14:14:18.487420Z"
    },
    "colab": {
     "base_uri": "https://localhost:8080/"
    },
    "executionInfo": {
     "elapsed": 422,
     "status": "ok",
     "timestamp": 1673903905677,
     "user": {
      "displayName": "Guillermo Carbajal",
      "userId": "12547730654968608614"
     },
     "user_tz": 180
    },
    "id": "oK1DpfPS3nek",
    "outputId": "852841c6-1ea4-4497-e93d-aaade83c4a27"
   },
   "outputs": [],
   "source": [
    "!git clone https://github.com/GuillermoCarbajal/J-MKPD.git\n",
    "%cd J-MKPD"
   ]
  },
  {
   "cell_type": "markdown",
   "metadata": {
    "id": "sL1mSTwX3nen"
   },
   "source": [
    "## Setup the environment"
   ]
  },
  {
   "cell_type": "code",
   "execution_count": null,
   "metadata": {
    "ExecuteTime": {
     "end_time": "2023-01-22T14:15:25.906989Z",
     "start_time": "2023-01-22T14:15:17.578145Z"
    },
    "colab": {
     "base_uri": "https://localhost:8080/"
    },
    "executionInfo": {
     "elapsed": 9706,
     "status": "ok",
     "timestamp": 1673903917760,
     "user": {
      "displayName": "Guillermo Carbajal",
      "userId": "12547730654968608614"
     },
     "user_tz": 180
    },
    "id": "jkXOSc4C3neo",
    "outputId": "40ca3fc6-266b-4831-843c-083b6838e1f2"
   },
   "outputs": [],
   "source": [
    "!pip install -r 'requirements.txt'"
   ]
  },
  {
   "cell_type": "markdown",
   "metadata": {
    "id": "FUZSEIxYiywI"
   },
   "source": [
    "## Download pretrained models"
   ]
  },
  {
   "cell_type": "code",
   "execution_count": null,
   "metadata": {
    "colab": {
     "base_uri": "https://localhost:8080/",
     "height": 174
    },
    "executionInfo": {
     "elapsed": 209763,
     "status": "ok",
     "timestamp": 1673904127506,
     "user": {
      "displayName": "Guillermo Carbajal",
      "userId": "12547730654968608614"
     },
     "user_tz": 180
    },
    "id": "DiElLLM2HS4D",
    "outputId": "48a96d57-b250-4e94-9c2f-8e94763ef353"
   },
   "outputs": [],
   "source": [
    "import gdown\n",
    "gdown.download('http://iie.fing.edu.uy/~carbajal/IEEE_CI_models/COCO900_restL2_sat/80000_kernels_network.pth', \"./pretrained_models/\", quiet=False)\n",
    "gdown.download('http://iie.fing.edu.uy/~carbajal/IEEE_CI_models/COCO900_restL2_sat/80000_G.pth', \"./pretrained_models/\", quiet=False)"
   ]
  },
  {
   "cell_type": "code",
   "execution_count": null,
   "metadata": {
    "colab": {
     "base_uri": "https://localhost:8080/"
    },
    "executionInfo": {
     "elapsed": 35,
     "status": "ok",
     "timestamp": 1673904127508,
     "user": {
      "displayName": "Guillermo Carbajal",
      "userId": "12547730654968608614"
     },
     "user_tz": 180
    },
    "id": "LJ46_zyoO2pW",
    "outputId": "aff194b9-1234-4489-fc8b-8c9adeb0feed"
   },
   "outputs": [],
   "source": []
  },
  {
   "cell_type": "code",
   "execution_count": null,
   "metadata": {
    "executionInfo": {
     "elapsed": 4,
     "status": "ok",
     "timestamp": 1673905706470,
     "user": {
      "displayName": "Guillermo Carbajal",
      "userId": "12547730654968608614"
     },
     "user_tz": 180
    },
    "id": "RhLav75OMNJW"
   },
   "outputs": [],
   "source": [
    "import torch\n",
    "from skimage.io import imread, imsave\n",
    "from skimage import img_as_ubyte\n",
    "import os \n",
    "from models.TwoHeadsNetwork import TwoHeadsNetwork\n",
    "from torchvision import transforms\n",
    "import numpy as np\n",
    "from torchvision.utils import make_grid\n",
    "from utils.visualization import save_kernels_grid, save_image, tensor2im\n",
    "from matplotlib import pyplot  as plt\n",
    "from skimage.color import gray2rgb\n",
    "from skimage.transform import resize"
   ]
  },
  {
   "cell_type": "markdown",
   "metadata": {
    "id": "KkoenR76DU9-"
   },
   "source": [
    "## Kernels Computation"
   ]
  },
  {
   "cell_type": "code",
   "execution_count": null,
   "metadata": {
    "ExecuteTime": {
     "end_time": "2023-01-22T19:28:41.067494Z",
     "start_time": "2023-01-22T19:28:41.008424Z"
    },
    "colab": {
     "base_uri": "https://localhost:8080/"
    },
    "executionInfo": {
     "elapsed": 516,
     "status": "ok",
     "timestamp": 1673907027863,
     "user": {
      "displayName": "Guillermo Carbajal",
      "userId": "12547730654968608614"
     },
     "user_tz": 180
    },
    "id": "JpDopxdPDP4s",
    "outputId": "fadac88a-d1ea-4b3d-81c3-fc46f838a006"
   },
   "outputs": [],
   "source": [
    "input_image = 'testing_imgs/0316.png'\n",
    "#input_image ='testing_imgs/Blurry2_1.png'\n",
    "reblur_model_file = 'pretrained_models/80000_kernels_network.pth'\n",
    "\n",
    "K=25\n",
    "reblur_model = TwoHeadsNetwork(K).cuda()   \n",
    "reblur_model.load_state_dict(torch.load(reblur_model_file))\n",
    "reblur_model.eval()"
   ]
  },
  {
   "cell_type": "code",
   "execution_count": null,
   "metadata": {
    "executionInfo": {
     "elapsed": 354,
     "status": "ok",
     "timestamp": 1673907030946,
     "user": {
      "displayName": "Guillermo Carbajal",
      "userId": "12547730654968608614"
     },
     "user_tz": 180
    },
    "id": "KZ-apJxWL6Zu"
   },
   "outputs": [],
   "source": [
    "def compute_kernels(input_file, reblur_model, output_dir='testing_results', gamma_factor=1.0):\n",
    "  \n",
    "  K = 25 # number of elements en the base\n",
    "  if not os.path.exists(output_dir):\n",
    "      os.makedirs(output_dir)\n",
    "\n",
    "  img_name = input_file.split('/')[-1]\n",
    "  img_name, ext = img_name.split('.')\n",
    "\n",
    "  print('loading image ',input_file)\n",
    "  blurry_image = imread(input_file)\n",
    "\n",
    "  # Blurry image is transformed to pytorch format\n",
    "  transform = transforms.Compose([\n",
    "      transforms.ToTensor()\n",
    "  ])\n",
    "  blurry_tensor = transform(blurry_image).cuda()\n",
    "\n",
    "  # Kernels and masks are estimated\n",
    "  blurry_tensor_to_compute_kernels = blurry_tensor**gamma_factor - 0.5\n",
    "  kernels_estimated, masks_estimated = reblur_model(blurry_tensor_to_compute_kernels[None,:,:,:])\n",
    "\n",
    "  kernels_val_n = kernels_estimated[0, :, :, :]\n",
    "  kernels_val_n_ext = kernels_val_n[:, np.newaxis, :, :]\n",
    "\n",
    "  blur_kernel_val_grid = make_grid(kernels_val_n_ext, nrow=K,\n",
    "                                                    normalize=True, scale_each=True,pad_value=1)\n",
    "  mask_val_n = masks_estimated[0, :, :, :]\n",
    "  mask_val_n_ext = mask_val_n[:, np.newaxis, :, :]\n",
    "  blur_mask_val_grid = make_grid(mask_val_n_ext, nrow=K, pad_value=1)\n",
    "\n",
    "  imsave(os.path.join(output_dir, img_name + '_kernels.png' ),\n",
    "            img_as_ubyte(blur_kernel_val_grid.detach().cpu().numpy().transpose((1, 2, 0))))\n",
    "  print('Kernels saved in ',os.path.join(output_dir, img_name + '_kernels.png') )\n",
    "\n",
    "  imsave(os.path.join(output_dir, img_name + '_masks.png' ),\n",
    "            img_as_ubyte(blur_mask_val_grid.detach().cpu().numpy().transpose((1, 2, 0))))\n",
    "  print('Mixing coefficients saved in ',os.path.join(output_dir, img_name + '_mask.png' ))\n",
    "\n",
    "  win_kernels_grid = save_kernels_grid(blurry_tensor, torch.flip(kernels_estimated[0], dims=(1,2)), masks_estimated[0], os.path.join(output_dir, img_name + '_kernels_grid.png'))\n",
    "  print(win_kernels_grid.shape, win_kernels_grid.min(), win_kernels_grid.max())\n",
    "  print('Kernels grid saved in ',os.path.join(output_dir, img_name + '_kernels_grid.png' ))\n",
    "\n",
    "  plt.figure(figsize=(14,7))\n",
    "  plt.subplot(1,2,1)\n",
    "  plt.imshow(blurry_image)\n",
    "  plt.subplot( 1,2,2)\n",
    "  plt.imshow(win_kernels_grid)\n",
    "\n"
   ]
  },
  {
   "cell_type": "code",
   "execution_count": null,
   "metadata": {
    "colab": {
     "base_uri": "https://localhost:8080/",
     "height": 582
    },
    "executionInfo": {
     "elapsed": 4520,
     "status": "ok",
     "timestamp": 1673907038281,
     "user": {
      "displayName": "Guillermo Carbajal",
      "userId": "12547730654968608614"
     },
     "user_tz": 180
    },
    "id": "tLTU_G1tLb-X",
    "outputId": "4aacc6e5-14e9-45dd-9780-797a08939874"
   },
   "outputs": [],
   "source": [
    "compute_kernels(input_image, reblur_model)"
   ]
  },
  {
   "cell_type": "markdown",
   "metadata": {
    "id": "ZPel3cx0d6oU"
   },
   "source": [
    "## Image Deblurring"
   ]
  },
  {
   "cell_type": "code",
   "execution_count": null,
   "metadata": {
    "ExecuteTime": {
     "end_time": "2023-01-22T19:35:21.360409Z",
     "start_time": "2023-01-22T19:35:21.340336Z"
    },
    "executionInfo": {
     "elapsed": 349,
     "status": "ok",
     "timestamp": 1673907050653,
     "user": {
      "displayName": "Guillermo Carbajal",
      "userId": "12547730654968608614"
     },
     "user_tz": 180
    },
    "id": "a-ngjPshgDXy"
   },
   "outputs": [],
   "source": [
    "from models.network_nimbusr import NIMBUSRforSI as netForSI\n",
    "from models.network_nimbusr import NIMBUSR as net"
   ]
  },
  {
   "cell_type": "code",
   "execution_count": null,
   "metadata": {
    "executionInfo": {
     "elapsed": 529,
     "status": "ok",
     "timestamp": 1673907073227,
     "user": {
      "displayName": "Guillermo Carbajal",
      "userId": "12547730654968608614"
     },
     "user_tz": 180
    },
    "id": "2pEBZZENfmfb"
   },
   "outputs": [],
   "source": [
    "def load_nimbusr_net(type='nimbusr'):\n",
    "    opt_net = { \"n_iter\": 8\n",
    "        , \"h_nc\": 64\n",
    "        , \"in_nc\": 4\n",
    "        , \"out_nc\": 3\n",
    "        , \"ksize\": 25\n",
    "        , \"nc\": [64, 128, 256, 512]\n",
    "        , \"nb\": 2\n",
    "        , \"gc\": 32\n",
    "        , \"ng\": 2\n",
    "        , \"reduction\" : 16\n",
    "        , \"act_mode\": \"R\" \n",
    "        , \"upsample_mode\": \"convtranspose\" \n",
    "        , \"downsample_mode\": \"strideconv\"}\n",
    "\n",
    "    opt_data = { \"phase\": \"train\"\n",
    "          , \"dataset_type\": \"usrnet_multiblur\"\n",
    "          , \"dataroot_H\": \"datasets/COCO/val2014\"\n",
    "          , \"dataroot_L\": None\n",
    "          , \"H_size\": 256\n",
    "          , \"use_flip\": True\n",
    "          , \"use_rot\": True\n",
    "          , \"scales\": [2]\n",
    "          , \"sigma\": [0, 2]\n",
    "          , \"sigma_test\": 15\n",
    "          , \"n_channels\": 3\n",
    "          , \"dataloader_shuffle\": True\n",
    "          , \"dataloader_num_workers\": 16\n",
    "          , \"dataloader_batch_size\": 16\n",
    "          , \"motion_blur\": True\n",
    "\n",
    "          , \"coco_annotation_path\": \"datasets/COCO/instances_val2014.json\"}\n",
    "\n",
    "    path_pretrained = restoration_model #r'../model_zoo/NIMBUSR.pth'\n",
    "    \n",
    "    if type=='nimbusr':\n",
    "        netG = net(n_iter=opt_net['n_iter'],\n",
    "                    h_nc=opt_net['h_nc'],\n",
    "                    in_nc=opt_net['in_nc'],\n",
    "                    out_nc=opt_net['out_nc'],\n",
    "                    nc=opt_net['nc'],\n",
    "                    nb=opt_net['nb'],\n",
    "                    act_mode=opt_net['act_mode'],\n",
    "                    downsample_mode=opt_net['downsample_mode'],\n",
    "                    upsample_mode=opt_net['upsample_mode']\n",
    "                    )\n",
    "    elif type=='nimbusr_sat':\n",
    "        netG = netForSI(n_iter= opt_net['n_iter'],\n",
    "                    h_nc=opt_net['h_nc'],\n",
    "                    in_nc=opt_net['in_nc'],\n",
    "                    out_nc=opt_net['out_nc'],\n",
    "                    nc=opt_net['nc'],\n",
    "                    nb=opt_net['nb'],\n",
    "                    act_mode=opt_net['act_mode'],\n",
    "                    downsample_mode=opt_net['downsample_mode'],\n",
    "                    upsample_mode=opt_net['upsample_mode']\n",
    "                    )\n",
    "\n",
    "    netG.load_state_dict(torch.load(path_pretrained))\n",
    "    netG = netG.to('cuda')\n",
    "\n",
    "    return netG\n"
   ]
  },
  {
   "cell_type": "code",
   "execution_count": null,
   "metadata": {
    "executionInfo": {
     "elapsed": 12,
     "status": "ok",
     "timestamp": 1673907186060,
     "user": {
      "displayName": "Guillermo Carbajal",
      "userId": "12547730654968608614"
     },
     "user_tz": 180
    },
    "id": "eM_qzywkgOpy"
   },
   "outputs": [],
   "source": [
    "def restore_images(input_file, reblur_model, output_folder='testing_results', gamma_factor=1.0, \n",
    "                   resize_factor=1, network_type='nimbusr_sat'):\n",
    "  \n",
    "  if not os.path.exists(output_folder):\n",
    "    os.makedirs(output_folder)\n",
    "\n",
    "  blurry_image =  imread(input_file)\n",
    "  img_name, ext = input_file.split('/')[-1].split('.')\n",
    "  \n",
    "  if len(blurry_image.shape) > 2:\n",
    "      blurry_image = blurry_image[:,:,:3]\n",
    "  else:\n",
    "      blurry_image = np.concatenate((blurry_image[:,:,None],blurry_image[:,:,None],blurry_image[:,:,None]), axis=2)\n",
    "\n",
    "  M, N, C = blurry_image.shape\n",
    "  if resize_factor != 1:\n",
    "    if len(blurry_image.shape) == 2:\n",
    "        blurry_image = gray2rgb(blurry_image)\n",
    "    new_shape = (int(resize_factor*M), int(resize_factor*N), C )\n",
    "    blurry_image = resize(blurry_image,new_shape, anti_aliasing=True).astype(np.float32)\n",
    "\n",
    "\n",
    "  initial_image = blurry_image.copy()\n",
    "\n",
    "  blurry_tensor = transforms.ToTensor()(blurry_image)\n",
    "  blurry_tensor = blurry_tensor[None,:,:,:]\n",
    "  blurry_tensor = blurry_tensor.cuda()\n",
    "\n",
    "  save_image(tensor2im(blurry_tensor[0] - 0.5), os.path.join(output_folder, img_name + '.png' ))\n",
    "\n",
    "  with torch.no_grad():\n",
    "      blurry_tensor_to_compute_kernels = blurry_tensor**gamma_factor - 0.5\n",
    "      kernels, masks = reblur_model(blurry_tensor_to_compute_kernels)\n",
    "      save_kernels_grid(blurry_tensor[0],kernels[0], masks[0], os.path.join(output_folder, img_name + '_kernels'+'.png'))\n",
    "\n",
    "\n",
    "  noise_level = 0.01\n",
    "  with torch.no_grad():\n",
    "      netG = load_nimbusr_net(network_type)\n",
    "      noise_level = torch.FloatTensor([noise_level]).view(1,1,1).cuda()\n",
    "      kernels_flipped = torch.flip(kernels, dims=(2, 3))\n",
    "      output = netG(blurry_tensor, masks, kernels_flipped, 1, sigma=noise_level[None,:])\n",
    "      print('Restored image range:', output.min(), output.max())\n",
    "\n",
    "  #output_img = tensor2im(torch.clamp(output[0]/output[0].max(),0,1) - 0.5)\n",
    "  output_img = tensor2im(torch.clamp(output[0],0,1) - 0.5)\n",
    "  save_image(output_img, os.path.join(output_folder, img_name  + '_restored.png' ))\n",
    "  print('Output saved in ', os.path.join(output_folder, img_name  + '_restored.png' ))\n",
    "\n",
    "  plt.figure(figsize=(14,7))\n",
    "  plt.subplot(1,2,1)\n",
    "  plt.imshow(blurry_image)\n",
    "  plt.subplot( 1,2,2)\n",
    "  plt.imshow(output_img)\n"
   ]
  },
  {
   "cell_type": "code",
   "execution_count": null,
   "metadata": {
    "executionInfo": {
     "elapsed": 11,
     "status": "ok",
     "timestamp": 1673907198774,
     "user": {
      "displayName": "Guillermo Carbajal",
      "userId": "12547730654968608614"
     },
     "user_tz": 180
    },
    "id": "4LdoyZuYlmIk"
   },
   "outputs": [],
   "source": [
    "input_image = 'testing_imgs/0316.png'\n",
    "input_image = 'testing_imgs/Blurry2_1.png'\n",
    "restoration_model='pretrained_models/80000_G.pth'"
   ]
  },
  {
   "cell_type": "code",
   "execution_count": null,
   "metadata": {
    "colab": {
     "base_uri": "https://localhost:8080/",
     "height": 441
    },
    "executionInfo": {
     "elapsed": 3302,
     "status": "ok",
     "timestamp": 1673907203636,
     "user": {
      "displayName": "Guillermo Carbajal",
      "userId": "12547730654968608614"
     },
     "user_tz": 180
    },
    "id": "zZDznYn4g_bN",
    "outputId": "453e7cc4-dd67-4239-b2a8-90c5650a622a"
   },
   "outputs": [],
   "source": [
    "restore_images(input_image, reblur_model)"
   ]
  },
  {
   "cell_type": "markdown",
   "metadata": {
    "id": "XDfnchPfmsA8"
   },
   "source": [
    "## Try with your own images"
   ]
  },
  {
   "cell_type": "code",
   "execution_count": null,
   "metadata": {
    "colab": {
     "base_uri": "https://localhost:8080/",
     "height": 143
    },
    "executionInfo": {
     "elapsed": 32326,
     "status": "ok",
     "timestamp": 1673907242523,
     "user": {
      "displayName": "Guillermo Carbajal",
      "userId": "12547730654968608614"
     },
     "user_tz": 180
    },
    "id": "vSntM3PGJj8a",
    "outputId": "de0b5304-e264-430f-8b55-2ff93f5fa840"
   },
   "outputs": [],
   "source": [
    "from google.colab import files\n",
    "import shutil\n",
    "\n",
    "upload_folder = 'upload/input'\n",
    "result_folder = 'upload/output'\n",
    "\n",
    "if os.path.isdir(upload_folder):\n",
    "    shutil.rmtree(upload_folder)\n",
    "if os.path.isdir(result_folder):\n",
    "    shutil.rmtree(result_folder)\n",
    "os.makedirs(upload_folder)\n",
    "os.makedirs(result_folder)\n",
    "\n",
    "# upload images\n",
    "uploaded = files.upload()\n",
    "for filename in uploaded.keys():\n",
    "  dst_path = os.path.join(upload_folder, filename)\n",
    "  print(f'move {filename} to {dst_path}')\n",
    "  shutil.move(filename, dst_path)"
   ]
  },
  {
   "cell_type": "code",
   "execution_count": null,
   "metadata": {
    "colab": {
     "base_uri": "https://localhost:8080/",
     "height": 773
    },
    "executionInfo": {
     "elapsed": 25554,
     "status": "ok",
     "timestamp": 1673907273293,
     "user": {
      "displayName": "Guillermo Carbajal",
      "userId": "12547730654968608614"
     },
     "user_tz": 180
    },
    "id": "ZvTFR-LKj9_6",
    "outputId": "fecfbffe-740b-4d8f-fa1c-327a99f487e5"
   },
   "outputs": [],
   "source": [
    "import glob\n",
    "input_list = sorted(glob.glob(os.path.join(upload_folder, '*')))\n",
    "for input_path in input_list:\n",
    "  img_input = imread(input_path)\n",
    "  restore_images(input_path, reblur_model)"
   ]
  },
  {
   "cell_type": "code",
   "execution_count": null,
   "metadata": {
    "id": "78463DljnnCP"
   },
   "outputs": [],
   "source": []
  }
 ],
 "metadata": {
  "accelerator": "GPU",
  "colab": {
   "provenance": []
  },
  "gpuClass": "standard",
  "kernelspec": {
   "display_name": "Python 3",
   "language": "python",
   "name": "python3"
  },
  "language_info": {
   "codemirror_mode": {
    "name": "ipython",
    "version": 3
   },
   "file_extension": ".py",
   "mimetype": "text/x-python",
   "name": "python",
   "nbconvert_exporter": "python",
   "pygments_lexer": "ipython3",
   "version": "3.6.9"
  },
  "varInspector": {
   "cols": {
    "lenName": 16,
    "lenType": 16,
    "lenVar": 40
   },
   "kernels_config": {
    "python": {
     "delete_cmd_postfix": "",
     "delete_cmd_prefix": "del ",
     "library": "var_list.py",
     "varRefreshCmd": "print(var_dic_list())"
    },
    "r": {
     "delete_cmd_postfix": ") ",
     "delete_cmd_prefix": "rm(",
     "library": "var_list.r",
     "varRefreshCmd": "cat(var_dic_list()) "
    }
   },
   "types_to_exclude": [
    "module",
    "function",
    "builtin_function_or_method",
    "instance",
    "_Feature"
   ],
   "window_display": false
  }
 },
 "nbformat": 4,
 "nbformat_minor": 1
}
